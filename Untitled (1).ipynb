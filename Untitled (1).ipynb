{
 "cells": [
  {
   "cell_type": "markdown",
   "metadata": {},
   "source": [
    "# Xiaolun Gong LAB1"
   ]
  },
  {
   "cell_type": "markdown",
   "metadata": {},
   "source": [
    "## Part 1"
   ]
  },
  {
   "cell_type": "code",
   "execution_count": 2,
   "metadata": {
    "collapsed": true
   },
   "outputs": [],
   "source": [
    "#import arcpy\n",
    "import sys\n",
    "sys.path.append('C:\\\\Program Files (x86)\\\\ArcGIS\\\\Desktop10.5\\\\bin')\n",
    "sys.path.append('C:\\\\Program Files (x86)\\\\ArcGIS\\\\Desktop10.5\\\\arcpy')\n",
    "sys.path.append('C:\\\\Program Files (x86)\\\\ArcGIS\\\\Desktop10.5\\\\ArcToolbox\\\\Scripts')\n",
    "import arcpy\n",
    "#set up feature class\n",
    "file_name = \"C:/Users/andygong/Downloads/saep_bg10/saep_bg10.shp\"\n",
    "table_name =  \"C:/Users/andygong/Downloads/WashingtonFIPS.dbf\""
   ]
  },
  {
   "cell_type": "markdown",
   "metadata": {},
   "source": [
    "Import tool to convert shp file to geoJSON files"
   ]
  },
  {
   "cell_type": "code",
   "execution_count": 3,
   "metadata": {
    "collapsed": true
   },
   "outputs": [],
   "source": [
    "# set up the environment variables for GDAL/OGR\n",
    "from subprocess import call\n",
    "import os\n",
    "os.environ[\"GDAL_DATA\"] = \"C:\\\\OSGeo4W\\\\share\\\\gdal\"\n",
    "os.environ[\"GDAL_DRIVER_PATH\"] = \"C:\\\\OSGeo4W\\\\bin\\\\gdalplugins\"\n",
    "os.environ[\"PROJ_LIB\"] = \"C:\\\\OSGeo4W\\\\share\\\\proj\"\n",
    "os.environ[\"PATH\"] = \"C:\\\\OSGeo4W\\\\bin;\"+os.environ[\"PATH\"]+\";C:\\\\OSGeo4W\\\\apps\\\\msys\\\\bin;C:\\\\OSGeo4W\\\\apps\\\\Python27\\\\Scripts\""
   ]
  },
  {
   "cell_type": "code",
   "execution_count": 4,
   "metadata": {
    "collapsed": true
   },
   "outputs": [],
   "source": [
    "#set up workspace\n",
    "arcpy.env.workspace = \"C:/Users/andygong/Downloads/WA_Counties\"\n",
    "arcpy.env.overwriteOutput = True"
   ]
  },
  {
   "cell_type": "code",
   "execution_count": 5,
   "metadata": {},
   "outputs": [],
   "source": [
    "# Create new field for county names\n",
    "arcpy.AddField_management(file_name, \"cntyName\", \"TEXT\")\n",
    "\n",
    "# get county name by loop\n",
    "my_List = []\n",
    "cursur = arcpy.da.SearchCursor(table_name, [\"CountyName\", \"FIPSCounty\"])\n",
    "for row in cursur:\n",
    "    my_List.append(row[0])\n",
    "    # Update county name for new field in the shp\n",
    "    cursur1 = arcpy.da.UpdateCursor(file_name, \"cntyName\", '\"COUNTYFP10\" = ' + \"'%s'\" %row[1])\n",
    "    for row1 in cursur1:\n",
    "        row1[0] = row[0]\n",
    "        cursur1.updateRow(row1)\n",
    "del cursur\n",
    "del cursur1"
   ]
  },
  {
   "cell_type": "code",
   "execution_count": 10,
   "metadata": {},
   "outputs": [],
   "source": [
    "# Export shapefiles for each county\n",
    "for name in my_List:\n",
    "    arcpy.FeatureClassToFeatureClass_conversion(file_name, \"C:/Users/andygong/Downloads/WA_Counties/\",\n",
    "                                                \"\" + name, '\"cntyName\" = ' + \"'%s'\" %name)"
   ]
  },
  {
   "cell_type": "markdown",
   "metadata": {},
   "source": [
    "check the spatial reference list use the project 2927"
   ]
  },
  {
   "cell_type": "code",
   "execution_count": 14,
   "metadata": {},
   "outputs": [
    {
     "ename": "WindowsError",
     "evalue": "[Error 2] The system cannot find the file specified",
     "output_type": "error",
     "traceback": [
      "\u001b[1;31m\u001b[0m",
      "\u001b[1;31mWindowsError\u001b[0mTraceback (most recent call last)",
      "\u001b[1;32m<ipython-input-14-e37ad34f7bac>\u001b[0m in \u001b[0;36m<module>\u001b[1;34m()\u001b[0m\n\u001b[0;32m      6\u001b[0m           \u001b[1;34m'-s_srs'\u001b[0m\u001b[1;33m,\u001b[0m\u001b[1;34m'EPSG:8050'\u001b[0m\u001b[1;33m,\u001b[0m\u001b[1;33m\u001b[0m\u001b[0m\n\u001b[0;32m      7\u001b[0m          \u001b[1;34m'C:/Users/andygong/Downloads/WA_Counties_GeoJSON/'\u001b[0m \u001b[1;33m+\u001b[0m \u001b[0mname\u001b[0m \u001b[1;33m+\u001b[0m \u001b[1;34m'.geojson'\u001b[0m\u001b[1;33m,\u001b[0m\u001b[1;33m\u001b[0m\u001b[0m\n\u001b[1;32m----> 8\u001b[1;33m         'C:/Users/andygong/Downloads/WA_Counties/' + name + '.shp'])\n\u001b[0m",
      "\u001b[1;32mC:\\ProgramData\\Anaconda2\\lib\\subprocess.pyc\u001b[0m in \u001b[0;36mcall\u001b[1;34m(*popenargs, **kwargs)\u001b[0m\n\u001b[0;32m    166\u001b[0m     \u001b[0mretcode\u001b[0m \u001b[1;33m=\u001b[0m \u001b[0mcall\u001b[0m\u001b[1;33m(\u001b[0m\u001b[1;33m[\u001b[0m\u001b[1;34m\"ls\"\u001b[0m\u001b[1;33m,\u001b[0m \u001b[1;34m\"-l\"\u001b[0m\u001b[1;33m]\u001b[0m\u001b[1;33m)\u001b[0m\u001b[1;33m\u001b[0m\u001b[0m\n\u001b[0;32m    167\u001b[0m     \"\"\"\n\u001b[1;32m--> 168\u001b[1;33m     \u001b[1;32mreturn\u001b[0m \u001b[0mPopen\u001b[0m\u001b[1;33m(\u001b[0m\u001b[1;33m*\u001b[0m\u001b[0mpopenargs\u001b[0m\u001b[1;33m,\u001b[0m \u001b[1;33m**\u001b[0m\u001b[0mkwargs\u001b[0m\u001b[1;33m)\u001b[0m\u001b[1;33m.\u001b[0m\u001b[0mwait\u001b[0m\u001b[1;33m(\u001b[0m\u001b[1;33m)\u001b[0m\u001b[1;33m\u001b[0m\u001b[0m\n\u001b[0m\u001b[0;32m    169\u001b[0m \u001b[1;33m\u001b[0m\u001b[0m\n\u001b[0;32m    170\u001b[0m \u001b[1;33m\u001b[0m\u001b[0m\n",
      "\u001b[1;32mC:\\ProgramData\\Anaconda2\\lib\\subprocess.pyc\u001b[0m in \u001b[0;36m__init__\u001b[1;34m(self, args, bufsize, executable, stdin, stdout, stderr, preexec_fn, close_fds, shell, cwd, env, universal_newlines, startupinfo, creationflags)\u001b[0m\n\u001b[0;32m    388\u001b[0m                                 \u001b[0mp2cread\u001b[0m\u001b[1;33m,\u001b[0m \u001b[0mp2cwrite\u001b[0m\u001b[1;33m,\u001b[0m\u001b[1;33m\u001b[0m\u001b[0m\n\u001b[0;32m    389\u001b[0m                                 \u001b[0mc2pread\u001b[0m\u001b[1;33m,\u001b[0m \u001b[0mc2pwrite\u001b[0m\u001b[1;33m,\u001b[0m\u001b[1;33m\u001b[0m\u001b[0m\n\u001b[1;32m--> 390\u001b[1;33m                                 errread, errwrite)\n\u001b[0m\u001b[0;32m    391\u001b[0m         \u001b[1;32mexcept\u001b[0m \u001b[0mException\u001b[0m\u001b[1;33m:\u001b[0m\u001b[1;33m\u001b[0m\u001b[0m\n\u001b[0;32m    392\u001b[0m             \u001b[1;31m# Preserve original exception in case os.close raises.\u001b[0m\u001b[1;33m\u001b[0m\u001b[1;33m\u001b[0m\u001b[0m\n",
      "\u001b[1;32mC:\\ProgramData\\Anaconda2\\lib\\subprocess.pyc\u001b[0m in \u001b[0;36m_execute_child\u001b[1;34m(self, args, executable, preexec_fn, close_fds, cwd, env, universal_newlines, startupinfo, creationflags, shell, to_close, p2cread, p2cwrite, c2pread, c2pwrite, errread, errwrite)\u001b[0m\n\u001b[0;32m    638\u001b[0m                                          \u001b[0menv\u001b[0m\u001b[1;33m,\u001b[0m\u001b[1;33m\u001b[0m\u001b[0m\n\u001b[0;32m    639\u001b[0m                                          \u001b[0mcwd\u001b[0m\u001b[1;33m,\u001b[0m\u001b[1;33m\u001b[0m\u001b[0m\n\u001b[1;32m--> 640\u001b[1;33m                                          startupinfo)\n\u001b[0m\u001b[0;32m    641\u001b[0m             \u001b[1;32mexcept\u001b[0m \u001b[0mpywintypes\u001b[0m\u001b[1;33m.\u001b[0m\u001b[0merror\u001b[0m\u001b[1;33m,\u001b[0m \u001b[0me\u001b[0m\u001b[1;33m:\u001b[0m\u001b[1;33m\u001b[0m\u001b[0m\n\u001b[0;32m    642\u001b[0m                 \u001b[1;31m# Translate pywintypes.error to WindowsError, which is\u001b[0m\u001b[1;33m\u001b[0m\u001b[1;33m\u001b[0m\u001b[0m\n",
      "\u001b[1;31mWindowsError\u001b[0m: [Error 2] The system cannot find the file specified"
     ]
    }
   ],
   "source": [
    "\n",
    "# Convert all .shp files into geoJSON files\n",
    "for name in my_List:\n",
    "    call(['C:\\\\OSGeo4W\\\\bin\\\\ogr2ogr', \n",
    "          '-f','GeoJSON','-t_srs','WGS84', \n",
    "          '-s_srs','EPSG:2927', \n",
    "         'C:/Users/andygong/Downloads/WA_Counties_GeoJSON/' + name + '.geojson', \n",
    "        'C:/Users/andygong/Downloads/WA_Counties/' + name + '.shp'])"
   ]
  },
  {
   "cell_type": "markdown",
   "metadata": {},
   "source": [
    "## Part 2"
   ]
  },
  {
   "cell_type": "markdown",
   "metadata": {},
   "source": [
    "first of all, I created a list to list each counties' population.Second, I list them to descending order, then print out the first 10. "
   ]
  },
  {
   "cell_type": "code",
   "execution_count": 12,
   "metadata": {},
   "outputs": [
    {
     "name": "stdout",
     "output_type": "stream",
     "text": [
      "2153700.0\n",
      "859400.0\n",
      "789400.0\n",
      "499800.0\n",
      "471000.0\n",
      "276900.0\n",
      "264300.0\n",
      "253000.0\n",
      "216300.0\n",
      "193500.0\n"
     ]
    }
   ],
   "source": [
    "# Add total population from each county to a list\n",
    "popList = []\n",
    "for name in my_List:\n",
    "    pop = 0\n",
    "    cursur = arcpy.da.SearchCursor(file_name, [\"POP2017\"], '\"cntyName\" = ' + \"'%s'\" %name)\n",
    "                                \n",
    "    for row in cursur:\n",
    "        pop += row[0]\n",
    "    popList.append(pop)\n",
    "    \n",
    "# make it to descending order\n",
    "popList.sort(reverse=True)\n",
    "\n",
    "# Print out population in descending order\n",
    "i = 0\n",
    "while i < 10:\n",
    "    print popList[i]\n",
    "    i += 1"
   ]
  },
  {
   "cell_type": "markdown",
   "metadata": {
    "collapsed": true
   },
   "source": [
    "### REFLECTION"
   ]
  },
  {
   "cell_type": "markdown",
   "metadata": {},
   "source": [
    " Honestyly, this lab is really hard for me, especially the first part of the lab. I went through the Chapter 7 several times to see what I can do. It really helps. Also, thanks for professor, the post on disscussion board on Wednesday was really helpful. I have worked on this lab for over 12 hours. I did learn a lot from this lab. I've learnt the cursur from the textbook, learnt the whereclause from Kim. However, I am still having problems to address the name from shp files to the geoJSON files. Since it reaches the due time, i will work on weekends to see I can finish it."
   ]
  },
  {
   "cell_type": "code",
   "execution_count": null,
   "metadata": {
    "collapsed": true
   },
   "outputs": [],
   "source": []
  }
 ],
 "metadata": {
  "kernelspec": {
   "display_name": "Python 2",
   "language": "python",
   "name": "python2"
  },
  "language_info": {
   "codemirror_mode": {
    "name": "ipython",
    "version": 2
   },
   "file_extension": ".py",
   "mimetype": "text/x-python",
   "name": "python",
   "nbconvert_exporter": "python",
   "pygments_lexer": "ipython2",
   "version": "2.7.13"
  }
 },
 "nbformat": 4,
 "nbformat_minor": 2
}
